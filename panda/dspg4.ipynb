{
 "cells": [
  {
   "cell_type": "markdown",
   "metadata": {},
   "source": [
    "4. What is the use of pandas.Dataframe.aggregate() function? Explain its syntax and parameters.\n"
   ]
  },
  {
   "cell_type": "markdown",
   "metadata": {},
   "source": [
    "Data Aggregation is defined as the process of applying some aggregation function to one or more columns. It uses the following:\n",
    "\n",
    "sum: It is used to return the sum of the values for the requested axis.\n",
    "min: It is used to return a minimum of the values for the requested axis.\n",
    "max: It is used to return maximum values for the requested axis.\n",
    "Its Syntax is:\n",
    "\n",
    "DataFrame.aggregate(func=None, axis=0, *args, **kwargs)\n",
    "\n",
    "Code Example :"
   ]
  },
  {
   "cell_type": "code",
   "execution_count": 1,
   "metadata": {},
   "outputs": [
    {
     "name": "stdout",
     "output_type": "stream",
     "text": [
      "        x     y\n",
      "sum  1430  1864\n",
      "       x    y\n",
      "min  240  300\n",
      "       x     y\n",
      "max  630  1112\n"
     ]
    }
   ],
   "source": [
    "import pandas as pd\n",
    "\n",
    "data = {\n",
    "  \"x\": [560, 240, 630],\n",
    "  \"y\": [300, 1112, 452]\n",
    "}\n",
    "\n",
    "df = pd.DataFrame(data)\n",
    "\n",
    "x = df.aggregate([\"sum\"])\n",
    "y = df.aggregate([\"min\"])\n",
    "z = df.aggregate([\"max\"])\n",
    "\n",
    "print(x)\n",
    "print(y)\n",
    "print(z)"
   ]
  }
 ],
 "metadata": {
  "kernelspec": {
   "display_name": "base",
   "language": "python",
   "name": "python3"
  },
  "language_info": {
   "codemirror_mode": {
    "name": "ipython",
    "version": 3
   },
   "file_extension": ".py",
   "mimetype": "text/x-python",
   "name": "python",
   "nbconvert_exporter": "python",
   "pygments_lexer": "ipython3",
   "version": "3.11.5"
  }
 },
 "nbformat": 4,
 "nbformat_minor": 2
}
