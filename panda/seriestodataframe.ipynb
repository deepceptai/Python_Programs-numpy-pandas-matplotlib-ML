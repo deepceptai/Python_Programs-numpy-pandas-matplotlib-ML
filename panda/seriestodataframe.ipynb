{
 "cells": [
  {
   "cell_type": "markdown",
   "metadata": {},
   "source": [
    "Series to Dataframe"
   ]
  },
  {
   "cell_type": "markdown",
   "metadata": {},
   "source": [
    "The conversion of Series to DataFrame is quite a simple process. All we need to do is to use the to_frame() function.\n",
    "\n",
    "Syntax:\n",
    "\n",
    "Series.to_frame(name=None)\n",
    "\n",
    "Parameters:\n",
    "\n",
    "name: It accepts data objects as input. It is an optional parameter. The value of the name parameter will be equal to the name of the Series if it has any.\n",
    "Return Type: It returns the DataFrame after converting it from Series"
   ]
  },
  {
   "cell_type": "code",
   "execution_count": 1,
   "metadata": {},
   "outputs": [
    {
     "name": "stdout",
     "output_type": "stream",
     "text": [
      "   Age\n",
      "0   25\n",
      "1   18\n",
      "2   40\n",
      "<class 'pandas.core.frame.DataFrame'>\n"
     ]
    }
   ],
   "source": [
    "import pandas as pd\n",
    "\n",
    "s = pd.Series([25, 18, 40], name=\"vals\")\n",
    "\n",
    "df = s.to_frame(name=\"Age\")\n",
    "\n",
    "print(df)\n",
    "print(type(df))"
   ]
  }
 ],
 "metadata": {
  "kernelspec": {
   "display_name": "base",
   "language": "python",
   "name": "python3"
  },
  "language_info": {
   "codemirror_mode": {
    "name": "ipython",
    "version": 3
   },
   "file_extension": ".py",
   "mimetype": "text/x-python",
   "name": "python",
   "nbconvert_exporter": "python",
   "pygments_lexer": "ipython3",
   "version": "3.11.5"
  }
 },
 "nbformat": 4,
 "nbformat_minor": 2
}
