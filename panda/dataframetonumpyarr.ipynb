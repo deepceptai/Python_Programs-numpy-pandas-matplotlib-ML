{
 "cells": [
  {
   "cell_type": "markdown",
   "metadata": {},
   "source": [
    "Dstsframe to Numpy array"
   ]
  },
  {
   "cell_type": "markdown",
   "metadata": {},
   "source": [
    "In order to convert DataFrame to a Numpy array we need to use DataFrame.to_numpy() method.\n",
    "\n",
    "Syntax:\n",
    "\n",
    "DataFrame.to_numpy(dtype=None, copy=False, na_value=_NoDefault.no_default)\n",
    "\n",
    "Parameters:\n",
    "\n",
    "dtype: It accepts string or numpy.dtype. It is an optional parameter.\n",
    "copy: It accepts a boolean value whose default is set to False.\n",
    "na_value: It is an optional parameter. It specifies the value to use for missing values. The data type will depend on the data type of the column in the dataframe."
   ]
  },
  {
   "cell_type": "code",
   "execution_count": 1,
   "metadata": {},
   "outputs": [
    {
     "name": "stdout",
     "output_type": "stream",
     "text": [
      "\n",
      "Numpy Array\n",
      "----------\n",
      " [[ 1  2  3]\n",
      " [ 4  5  6]\n",
      " [ 7  8  9]\n",
      " [10 11 12]]\n",
      "<class 'numpy.ndarray'>\n"
     ]
    }
   ],
   "source": [
    "import pandas as pd\n",
    "\n",
    "# initialize a dataframe\n",
    "df = pd.DataFrame(\n",
    "\t[[1, 2, 3],\n",
    "\t[4, 5, 6],\n",
    "\t[7, 8, 9],\n",
    "\t[10, 11, 12]],\n",
    "\tcolumns=['a', 'b', 'c'])\n",
    "\n",
    "# convert dataframe to numpy array\n",
    "arr = df.to_numpy()\n",
    "\n",
    "print('\\nNumpy Array\\n----------\\n', arr)\n",
    "print(type(arr))\n"
   ]
  }
 ],
 "metadata": {
  "kernelspec": {
   "display_name": "base",
   "language": "python",
   "name": "python3"
  },
  "language_info": {
   "codemirror_mode": {
    "name": "ipython",
    "version": 3
   },
   "file_extension": ".py",
   "mimetype": "text/x-python",
   "name": "python",
   "nbconvert_exporter": "python",
   "pygments_lexer": "ipython3",
   "version": "3.11.5"
  }
 },
 "nbformat": 4,
 "nbformat_minor": 2
}
