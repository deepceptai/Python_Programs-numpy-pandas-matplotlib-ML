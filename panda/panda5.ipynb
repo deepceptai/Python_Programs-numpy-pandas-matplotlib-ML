{
 "cells": [
  {
   "cell_type": "markdown",
   "metadata": {},
   "source": [
    "5. How will you compute the percentile of a numerical series in Pandas?"
   ]
  },
  {
   "cell_type": "markdown",
   "metadata": {},
   "source": [
    "In order to compute percentile we use numpy.percentile() method.\n",
    "\n",
    "Syntax:\n",
    "\n",
    "numpy.percentile(a, q, axis=None, out=None, overwrite_input=False, method='linear', keepdims=False, *, interpolation=None)\n",
    "\n",
    "It will calculate the q-th percentile of the given the data along the mentioned axis.\n",
    "\n",
    "Parameters:\n",
    "\n",
    "a: It is an input array or object that can be converted to an array.\n",
    "q: It is the percentile or sequence of percentiles to be calculated. The value must be between 0 and 100 both inclusive.\n",
    "\n",
    "Code Example:"
   ]
  },
  {
   "cell_type": "code",
   "execution_count": 2,
   "metadata": {},
   "outputs": [
    {
     "name": "stdout",
     "output_type": "stream",
     "text": [
      "22.1\n",
      "31.0\n",
      "71.0\n"
     ]
    }
   ],
   "source": [
    "import pandas as pd\n",
    "import random\n",
    "\n",
    "A = [ random.randint(0,100) for i in range(10) ]\n",
    "B = [ random.randint(0,100) for i in range(10) ]\n",
    "\n",
    "df = pd.DataFrame({ 'field_A': A, 'field_B': B })\n",
    "df\n",
    "\n",
    "\n",
    "print(df.field_A.quantile(0.1)) # 10th percentile\n",
    "\n",
    "\n",
    "print(df.field_A.quantile(0.5)) # same as median\n",
    "\n",
    "print(df.field_A.quantile(0.9)) # 90th percentile"
   ]
  }
 ],
 "metadata": {
  "kernelspec": {
   "display_name": "base",
   "language": "python",
   "name": "python3"
  },
  "language_info": {
   "codemirror_mode": {
    "name": "ipython",
    "version": 3
   },
   "file_extension": ".py",
   "mimetype": "text/x-python",
   "name": "python",
   "nbconvert_exporter": "python",
   "pygments_lexer": "ipython3",
   "version": "3.11.5"
  }
 },
 "nbformat": 4,
 "nbformat_minor": 2
}
