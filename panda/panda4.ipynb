{
 "cells": [
  {
   "cell_type": "markdown",
   "metadata": {},
   "source": [
    "4. How can we convert DataFrame into a NumPy array?"
   ]
  },
  {
   "cell_type": "markdown",
   "metadata": {},
   "source": [
    "In order to convert a dataframe into a NumPy array we use DataFrame.to_numpy() method.\n",
    "\n",
    "Syntax:\n",
    "\n",
    "DataFrame.to_numpy(dtype=None, copy=False, na_value=_NoDefault.no_default)\n",
    "\n",
    "Parameters:\n",
    "\n",
    "dtype: It accepts string or numpy.dtype value. It is an optional parameter.\n",
    "copy: It accepts a boolean value. The default value is set to False.\n",
    "It ensures that the returned value is not a view on another array. Setting the value of copy=False does not ensure that to_numpy() is no-copy. Whereas if copy=True it does ensure that a copy is made.\n",
    "na_value: It accepts the parameter of any datatype and it is an optional parameter. It specifies the value to be used for missing values. The default value is of the same data type as the object.\n",
    "\n",
    "Code Example :"
   ]
  },
  {
   "cell_type": "code",
   "execution_count": 1,
   "metadata": {},
   "outputs": [
    {
     "name": "stdout",
     "output_type": "stream",
     "text": [
      "\n",
      "Numpy Array\n",
      "----------\n",
      " [[10 12 33]\n",
      " [41 53 66]\n",
      " [17 81 19]\n",
      " [10 11 12]]\n",
      "<class 'numpy.ndarray'>\n"
     ]
    }
   ],
   "source": [
    "import pandas as pd\n",
    "\n",
    "# initialize a dataframe\n",
    "df = pd.DataFrame(\n",
    "\t[[10, 12, 33],\n",
    "\t[41, 53, 66],\n",
    "\t[17, 81, 19],\n",
    "\t[10, 11, 12]],\n",
    "\tcolumns=['X', 'Y', 'Z'])\n",
    "\n",
    "# convert dataframe to numpy array\n",
    "arr = df.to_numpy()\n",
    "\n",
    "print('\\nNumpy Array\\n----------\\n', arr)\n",
    "print(type(arr))"
   ]
  }
 ],
 "metadata": {
  "kernelspec": {
   "display_name": "base",
   "language": "python",
   "name": "python3"
  },
  "language_info": {
   "codemirror_mode": {
    "name": "ipython",
    "version": 3
   },
   "file_extension": ".py",
   "mimetype": "text/x-python",
   "name": "python",
   "nbconvert_exporter": "python",
   "pygments_lexer": "ipython3",
   "version": "3.11.5"
  }
 },
 "nbformat": 4,
 "nbformat_minor": 2
}
