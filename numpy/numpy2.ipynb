{
 "cells": [
  {
   "cell_type": "markdown",
   "metadata": {},
   "source": [
    "Write a program to transform elements of a given string to a numeric string of 10 digits by making all the elements of a given string to a numeric string of 8 digits with zeros on the left."
   ]
  },
  {
   "cell_type": "code",
   "execution_count": 4,
   "metadata": {},
   "outputs": [
    {
     "name": "stdout",
     "output_type": "stream",
     "text": [
      "Transformed array: \n",
      "['0000000022' '0000000009' '0000001234' '0000000567' '0000089102']\n"
     ]
    }
   ],
   "source": [
    "import numpy as np\n",
    "\n",
    "#Create Sample NumPy array\n",
    "arr = np.array(['22', '9', '1234', '567', '89102'], dtype=str)\n",
    "\n",
    "zeroes_filled_arr = np.char.zfill(arr, 10)\n",
    "print(\"Transformed array: \")\n",
    "print(zeroes_filled_arr)"
   ]
  }
 ],
 "metadata": {
  "kernelspec": {
   "display_name": "base",
   "language": "python",
   "name": "python3"
  },
  "language_info": {
   "codemirror_mode": {
    "name": "ipython",
    "version": 3
   },
   "file_extension": ".py",
   "mimetype": "text/x-python",
   "name": "python",
   "nbconvert_exporter": "python",
   "pygments_lexer": "ipython3",
   "version": "3.11.5"
  }
 },
 "nbformat": 4,
 "nbformat_minor": 2
}
