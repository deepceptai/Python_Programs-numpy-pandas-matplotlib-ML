{
 "cells": [
  {
   "cell_type": "markdown",
   "metadata": {},
   "source": [
    "flipr() Method"
   ]
  },
  {
   "cell_type": "markdown",
   "metadata": {},
   "source": [
    "The fliplr() method is used for flipping an array in the left or right direction. The columns are preserved but the order of elements in the columns would be different than before.\n",
    "\n",
    "Syntax of fliplr:\n",
    "\n",
    "np.fliplr(arr)\n",
    "\n",
    "where arr is the array that has to be flipped."
   ]
  },
  {
   "cell_type": "code",
   "execution_count": 1,
   "metadata": {},
   "outputs": [
    {
     "name": "stdout",
     "output_type": "stream",
     "text": [
      "[[23  1]\n",
      " [ 6 34]]\n"
     ]
    }
   ],
   "source": [
    "import numpy as ppool\n",
    "a=[[1,23],\n",
    "    [34,6]]\n",
    "print(ppool.fliplr(a))"
   ]
  },
  {
   "cell_type": "markdown",
   "metadata": {},
   "source": [
    "flipud() function"
   ]
  },
  {
   "cell_type": "markdown",
   "metadata": {},
   "source": [
    "The flipud function also flips the array but in the up or down direction. The rows are preserved in this case but they can appear in a different order in the result. \n",
    "\n",
    "The syntax for flipud:\n",
    "\n",
    "np.flipud(arr)\n",
    "\n",
    "where arr is the array that has to be flipped."
   ]
  },
  {
   "cell_type": "code",
   "execution_count": 2,
   "metadata": {},
   "outputs": [
    {
     "name": "stdout",
     "output_type": "stream",
     "text": [
      "[6 5 4 2 1]\n"
     ]
    }
   ],
   "source": [
    "import numpy as np\n",
    "\n",
    "# create numpy array\n",
    "arr = np.array([1, 2, 4, 5, 6])\n",
    "\n",
    "#flipud method for reversing\n",
    "reverse_arr = np.flipud(arr)\n",
    "print(reverse_arr)"
   ]
  }
 ],
 "metadata": {
  "kernelspec": {
   "display_name": "base",
   "language": "python",
   "name": "python3"
  },
  "language_info": {
   "codemirror_mode": {
    "name": "ipython",
    "version": 3
   },
   "file_extension": ".py",
   "mimetype": "text/x-python",
   "name": "python",
   "nbconvert_exporter": "python",
   "pygments_lexer": "ipython3",
   "version": "3.11.5"
  }
 },
 "nbformat": 4,
 "nbformat_minor": 2
}
