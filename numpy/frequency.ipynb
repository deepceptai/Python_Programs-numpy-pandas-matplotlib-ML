{
 "cells": [
  {
   "cell_type": "markdown",
   "metadata": {},
   "source": [
    "The bincount() function to compute the number of times a given value is there in the array. "
   ]
  },
  {
   "cell_type": "code",
   "execution_count": 2,
   "metadata": {},
   "outputs": [
    {
     "name": "stdout",
     "output_type": "stream",
     "text": [
      "[3 2 2 2 0 1]\n"
     ]
    }
   ],
   "source": [
    "import numpy as np\n",
    "arr = np.array([1, 2, 1, 3, 5, 0, 0, 0, 2, 3])\n",
    "result = np.bincount(arr)\n",
    "print(result)"
   ]
  },
  {
   "cell_type": "markdown",
   "metadata": {},
   "source": [
    "Number 0 is present 3 times in given array.\n",
    "Number 1 is present 2 times in given array.\n",
    "Number 2 is present 2 times in given array.\n",
    "Number 3 is present 2 times in given array.\n",
    "Number 4 is present 0 times in given array.\n",
    "Number 5 is present 1 times in given array"
   ]
  }
 ],
 "metadata": {
  "kernelspec": {
   "display_name": "base",
   "language": "python",
   "name": "python3"
  },
  "language_info": {
   "codemirror_mode": {
    "name": "ipython",
    "version": 3
   },
   "file_extension": ".py",
   "mimetype": "text/x-python",
   "name": "python",
   "nbconvert_exporter": "python",
   "pygments_lexer": "ipython3",
   "version": "3.11.5"
  }
 },
 "nbformat": 4,
 "nbformat_minor": 2
}
