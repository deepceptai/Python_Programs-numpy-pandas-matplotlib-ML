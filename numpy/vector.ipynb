{
 "cells": [
  {
   "cell_type": "markdown",
   "metadata": {},
   "source": [
    "Function Vectorization technically means that the function is applied to all elements in the array. "
   ]
  },
  {
   "cell_type": "code",
   "execution_count": 1,
   "metadata": {},
   "outputs": [
    {
     "name": "stdout",
     "output_type": "stream",
     "text": [
      "[5 7 9]\n"
     ]
    }
   ],
   "source": [
    "import numpy as np\n",
    "# Define your function\n",
    "def add(arr1, arr2):\n",
    "    return (arr1 + arr2)\n",
    "\n",
    "arr1 = np.array([1,2,3])\n",
    "arr2 = np.array([4,5,6])\n",
    "\n",
    "#vectorize add method\n",
    "vectorized_add = np.vectorize(add)\n",
    "\n",
    "#call vectorized method\n",
    "result = vectorized_add(arr1, arr2)\n",
    "\n",
    "print(result)"
   ]
  },
  {
   "cell_type": "markdown",
   "metadata": {},
   "source": [
    "Subtaction example"
   ]
  },
  {
   "cell_type": "code",
   "execution_count": 3,
   "metadata": {},
   "outputs": [
    {
     "name": "stdout",
     "output_type": "stream",
     "text": [
      "[3 3 3]\n"
     ]
    }
   ],
   "source": [
    "import numpy as np\n",
    "# Define your function\n",
    "def sub(arr1, arr2):\n",
    "    return (arr1 - arr2)\n",
    "\n",
    "arr1 = np.array([4,5,6])\n",
    "arr2 = np.array([1,2,3])\n",
    "\n",
    "#vectorize add method\n",
    "vectorized_sub = np.vectorize(sub)\n",
    "\n",
    "#call vectorized method\n",
    "result = vectorized_sub(arr1, arr2)\n",
    "\n",
    "print(result)"
   ]
  }
 ],
 "metadata": {
  "kernelspec": {
   "display_name": "base",
   "language": "python",
   "name": "python3"
  },
  "language_info": {
   "codemirror_mode": {
    "name": "ipython",
    "version": 3
   },
   "file_extension": ".py",
   "mimetype": "text/x-python",
   "name": "python",
   "nbconvert_exporter": "python",
   "pygments_lexer": "ipython3",
   "version": "3.11.5"
  }
 },
 "nbformat": 4,
 "nbformat_minor": 2
}
