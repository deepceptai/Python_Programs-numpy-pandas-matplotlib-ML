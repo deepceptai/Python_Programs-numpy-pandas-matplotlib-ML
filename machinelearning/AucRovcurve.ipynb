{
 "cells": [
  {
   "cell_type": "code",
   "execution_count": null,
   "metadata": {},
   "outputs": [
    {
     "name": "stdout",
     "output_type": "stream",
     "text": [
      "accuracy score: 0.95\n",
      "Confusion matrix\n",
      "[[   0  500]\n",
      " [   0 9500]]\n",
      "class 0 accuracy: 0.0\n",
      "class 1 accuracy: 1.0\n"
     ]
    }
   ],
   "source": [
    "import numpy as np\n",
    "from sklearn.metrics import accuracy_score, confusion_matrix, roc_auc_score, roc_curve\n",
    "\n",
    "n = 10000\n",
    "ratio = .95\n",
    "n_0 = int((1-ratio) * n)\n",
    "n_1 = int(ratio * n)\n",
    "\n",
    "y = np.array([0] * n_0 + [1] * n_1)\n",
    "# below are the probabilities obtained from a hypothetical model that always predicts the majority class\n",
    "# probability of predicting class 1 is going to be 100%\n",
    "y_proba = np.array([1]*n)\n",
    "y_pred = y_proba > .5\n",
    "\n",
    "print(f'accuracy score: {accuracy_score(y, y_pred)}')\n",
    "cf_mat = confusion_matrix(y, y_pred)\n",
    "print('Confusion matrix')\n",
    "print(cf_mat)\n",
    "print(f'class 0 accuracy: {cf_mat[0][0]/n_0}')\n",
    "print(f'class 1 accuracy: {cf_mat[1][1]/n_1}')"
   ]
  },
  {
   "cell_type": "code",
   "execution_count": 4,
   "metadata": {},
   "outputs": [
    {
     "name": "stdout",
     "output_type": "stream",
     "text": [
      "model 1 accuracy score: 0.75175\n",
      "model 2 accuracy score: 0.7538\n",
      "model 1 AUC score: 0.77323821\n",
      "model 2 AUC score: 0.85902253\n"
     ]
    }
   ],
   "source": [
    "import numpy as np\n",
    "from sklearn.metrics import accuracy_score, confusion_matrix, roc_auc_score, roc_curve\n",
    "\n",
    "n = 10000\n",
    "y = np.array([0] * n + [1] * n)\n",
    "# \n",
    "y_prob_1 = np.array(\n",
    "    np.random.uniform(.25, .5, n//2).tolist() + \n",
    "    np.random.uniform(.3, .7, n).tolist() + \n",
    "    np.random.uniform(.5, .75, n//2).tolist()\n",
    ")\n",
    "y_prob_2 = np.array(\n",
    "    np.random.uniform(0, .4, n//2).tolist() + \n",
    "    np.random.uniform(.3, .7, n).tolist() + \n",
    "    np.random.uniform(.6, 1, n//2).tolist()\n",
    ")\n",
    "\n",
    "print(f'model 1 accuracy score: {accuracy_score(y, y_prob_1>.5)}')\n",
    "print(f'model 2 accuracy score: {accuracy_score(y, y_prob_2>.5)}')\n",
    "\n",
    "print(f'model 1 AUC score: {roc_auc_score(y, y_prob_1)}')\n",
    "print(f'model 2 AUC score: {roc_auc_score(y, y_prob_2)}')\n"
   ]
  }
 ],
 "metadata": {
  "kernelspec": {
   "display_name": "base",
   "language": "python",
   "name": "python3"
  },
  "language_info": {
   "codemirror_mode": {
    "name": "ipython",
    "version": 3
   },
   "file_extension": ".py",
   "mimetype": "text/x-python",
   "name": "python",
   "nbconvert_exporter": "python",
   "pygments_lexer": "ipython3",
   "version": "3.11.5"
  }
 },
 "nbformat": 4,
 "nbformat_minor": 2
}
